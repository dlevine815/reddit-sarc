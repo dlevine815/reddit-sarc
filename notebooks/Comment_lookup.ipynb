{
 "cells": [
  {
   "cell_type": "code",
   "execution_count": 1,
   "metadata": {
    "collapsed": true
   },
   "outputs": [],
   "source": [
    "import json"
   ]
  },
  {
   "cell_type": "code",
   "execution_count": 2,
   "metadata": {
    "collapsed": true
   },
   "outputs": [],
   "source": [
    "with open('../SARC/2.0/pol/comments.json') as f:\n",
    "    pol_comments = json.load(f) "
   ]
  },
  {
   "cell_type": "code",
   "execution_count": 5,
   "metadata": {
    "collapsed": true
   },
   "outputs": [],
   "source": [
    "def find_pol_comment(comment_substring):\n",
    "    for c in pol_comments:\n",
    "        if comment_substring in pol_comments[c]['text']: print(c, pol_comments[c])"
   ]
  },
  {
   "cell_type": "code",
   "execution_count": 6,
   "metadata": {
    "collapsed": false
   },
   "outputs": [
    {
     "name": "stdout",
     "output_type": "stream",
     "text": [
      "d8nmzk7 {'text': 'Fact: the MSM only polls cucks so this poll is biased.', 'author': 'saraquael', 'score': 59, 'ups': -1, 'downs': -1, 'date': '2016-10', 'created_utc': 1476209567, 'subreddit': 'politics'}\n"
     ]
    }
   ],
   "source": [
    "find_pol_comment('MSM only polls')"
   ]
  },
  {
   "cell_type": "code",
   "execution_count": null,
   "metadata": {
    "collapsed": true
   },
   "outputs": [],
   "source": [
    "with open('../SARC/2.0/main/comments.json') as f:\n",
    "    full_comments = json.load(f) "
   ]
  },
  {
   "cell_type": "code",
   "execution_count": null,
   "metadata": {
    "collapsed": true
   },
   "outputs": [],
   "source": [
    "def find_pol_comment(comment_substring):\n",
    "    for c in pol_comments:\n",
    "        if comment_substring in pol_comments[c]['text']: print(c, pol_comments[c])"
   ]
  }
 ],
 "metadata": {
  "kernelspec": {
   "display_name": "conda_default",
   "language": "python",
   "name": "conda_default"
  },
  "language_info": {
   "codemirror_mode": {
    "name": "ipython",
    "version": 3
   },
   "file_extension": ".py",
   "mimetype": "text/x-python",
   "name": "python",
   "nbconvert_exporter": "python",
   "pygments_lexer": "ipython3",
   "version": "3.6.5"
  }
 },
 "nbformat": 4,
 "nbformat_minor": 1
}
