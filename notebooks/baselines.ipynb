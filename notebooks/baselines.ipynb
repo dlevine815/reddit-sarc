{
 "cells": [
  {
   "cell_type": "code",
   "execution_count": 1,
   "metadata": {
    "collapsed": false
   },
   "outputs": [
    {
     "name": "stdout",
     "output_type": "stream",
     "text": [
      "/media/alex/Data/Backup_root/Backup_docs/git/reddit-sarc/src\n"
     ]
    }
   ],
   "source": [
    "%cd ../src\n",
    "from util import *\n",
    "from baselines import *"
   ]
  },
  {
   "cell_type": "code",
   "execution_count": 3,
   "metadata": {
    "collapsed": false
   },
   "outputs": [
    {
     "name": "stdout",
     "output_type": "stream",
     "text": [
      "Lowercase (logistic regression)\n",
      "Over 5 folds, F1 mean is 0.7235100493948599, stdev 0.0032811049751065606\n",
      "\n",
      "Keep case (logistic regression)\n",
      "Over 5 folds, F1 mean is 0.7264783004564327, stdev 0.0074785821268089185\n"
     ]
    }
   ],
   "source": [
    "print(\"Lowercase (logistic regression)\")\n",
    "kfold_experiment(lower_pol_reader, fit_maxent_classifier, unigrams_phi_c, None, concat_phi_r, 5)\n",
    "\n",
    "print(\"\\nKeep case (logistic regression)\")\n",
    "kfold_experiment(pol_reader, fit_maxent_classifier, unigrams_phi_c, None, concat_phi_r, 5)\n",
    "\n"
   ]
  },
  {
   "cell_type": "code",
   "execution_count": null,
   "metadata": {
    "collapsed": true
   },
   "outputs": [],
   "source": []
  }
 ],
 "metadata": {
  "kernelspec": {
   "display_name": "conda_default",
   "language": "python",
   "name": "conda_default"
  },
  "language_info": {
   "codemirror_mode": {
    "name": "ipython",
    "version": 3
   },
   "file_extension": ".py",
   "mimetype": "text/x-python",
   "name": "python",
   "nbconvert_exporter": "python",
   "pygments_lexer": "ipython3",
   "version": "3.6.5"
  }
 },
 "nbformat": 4,
 "nbformat_minor": 1
}
