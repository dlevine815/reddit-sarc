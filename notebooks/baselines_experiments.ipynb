{
 "cells": [
  {
   "cell_type": "markdown",
   "metadata": {},
   "source": [
    "Now let's look at baseline performance with split response features (not conjoined anymore)"
   ]
  },
  {
   "cell_type": "code",
   "execution_count": 1,
   "metadata": {
    "collapsed": false
   },
   "outputs": [
    {
     "name": "stdout",
     "output_type": "stream",
     "text": [
      "/media/alex/Data/Backup_root/Backup_docs/git/reddit-sarc/src\n"
     ]
    }
   ],
   "source": [
    "%cd ../src\n",
    "from util import *\n",
    "from baselines import *"
   ]
  },
  {
   "cell_type": "code",
   "execution_count": 2,
   "metadata": {
    "collapsed": false
   },
   "outputs": [],
   "source": [
    "#lower_unigrams_phi = get_unigrams_phi(lower_pol_reader())\n",
    "unigrams_phi = get_unigrams_phi(pol_reader())"
   ]
  },
  {
   "cell_type": "code",
   "execution_count": 3,
   "metadata": {
    "collapsed": false
   },
   "outputs": [
    {
     "name": "stdout",
     "output_type": "stream",
     "text": [
      "Lowercase (logistic regression)\n",
      "Training and testing on fold 4\n",
      "Over 5 folds, F1 mean is 0.7461231646175646, stdev 0.011640638684474456\n",
      "\n",
      "Keep case (logistic regression)\n",
      "Training and testing on fold 4\n",
      "Over 5 folds, F1 mean is 0.7481731592087492, stdev 0.010224769438874516\n"
     ]
    }
   ],
   "source": [
    "print(\"Lowercase (logistic regression)\")\n",
    "kfold_experiment(reader   = lower_pol_reader(),\n",
    "                 Model    = MaxEntClassifier, \n",
    "                 phi      = lower_unigrams_phi, \n",
    "                 folds    = 5, \n",
    "                 balanced = True)\n",
    "\n",
    "print(\"\\nKeep case (logistic regression)\")\n",
    "kfold_experiment(reader   = pol_reader(),\n",
    "                 Model    = MaxEntClassifier, \n",
    "                 phi      = unigrams_phi, \n",
    "                 folds    = 5, \n",
    "                 balanced = True)\n",
    "\n",
    "#print(\"\\nKeep case (logistic regression)\")\n",
    "#kfold_experiment(pol_reader, fit_maxent_classifier, unigrams_phi_c, None, concat_phi_r, 5)"
   ]
  },
  {
   "cell_type": "code",
   "execution_count": 3,
   "metadata": {
    "collapsed": false
   },
   "outputs": [
    {
     "name": "stdout",
     "output_type": "stream",
     "text": [
      "             precision    recall  f1-score   support\n",
      "\n",
      "          0       0.96      0.96      0.96      6834\n",
      "          1       0.96      0.96      0.96      6834\n",
      "\n",
      "avg / total       0.96      0.96      0.96     13668\n",
      "\n"
     ]
    }
   ],
   "source": [
    "train_and_eval(pol_reader(), pol_reader(), MaxEntClassifier, unigrams_phi, balanced=True)"
   ]
  },
  {
   "cell_type": "code",
   "execution_count": 4,
   "metadata": {
    "collapsed": false
   },
   "outputs": [
    {
     "name": "stdout",
     "output_type": "stream",
     "text": [
      "\n",
      "Testing on c=0.01\n",
      "Training and testing on fold 4\n",
      "Over 5 folds, F1 mean is 0.7216880645116376, stdev 0.011245166333006967\n",
      "\n",
      "Testing on c=0.05\n",
      "Training and testing on fold 4\n",
      "Over 5 folds, F1 mean is 0.7483181797247609, stdev 0.013754430962620901\n",
      "\n",
      "Testing on c=0.1\n",
      "Training and testing on fold 4\n",
      "Over 5 folds, F1 mean is 0.751099917421848, stdev 0.012611504242036074\n",
      "\n",
      "Testing on c=0.5\n",
      "Training and testing on fold 4\n",
      "Over 5 folds, F1 mean is 0.7519781805173398, stdev 0.013257140039607668\n",
      "\n",
      "Testing on c=1.0\n",
      "Training and testing on fold 4\n",
      "Over 5 folds, F1 mean is 0.7481731592087492, stdev 0.010224769438874516\n",
      "\n",
      "Testing on c=2.0\n",
      "Training and testing on fold 4\n",
      "Over 5 folds, F1 mean is 0.7398315876961765, stdev 0.007720474090233108\n",
      "\n",
      "Testing on c=5.0\n",
      "Training and testing on fold 4\n",
      "Over 5 folds, F1 mean is 0.7285633650757608, stdev 0.003499762414663463\n"
     ]
    }
   ],
   "source": [
    "for c in (0.01, 0.05, 0.1, 0.5, 1.0, 2.0, 5.0):\n",
    "    print(\"\\nTesting on c={}\".format(c))\n",
    "    kfold_experiment(reader   = pol_reader(),\n",
    "                 Model    = lambda: MaxEntClassifier(c), \n",
    "                 phi      = unigrams_phi, \n",
    "                 folds    = 5, \n",
    "                 balanced = True)"
   ]
  },
  {
   "cell_type": "code",
   "execution_count": 3,
   "metadata": {
    "collapsed": false
   },
   "outputs": [
    {
     "name": "stdout",
     "output_type": "stream",
     "text": [
      "             precision    recall  f1-score   support\n",
      "\n",
      "          0      0.764     0.764     0.764      1703\n",
      "          1      0.764     0.764     0.764      1703\n",
      "\n",
      "avg / total      0.764     0.764     0.764      3406\n",
      "\n"
     ]
    }
   ],
   "source": [
    "train_and_eval(pol_reader(), \n",
    "               pol_test_reader(), \n",
    "               lambda: MaxEntClassifier(0.5), \n",
    "               unigrams_phi, \n",
    "               balanced=True)"
   ]
  },
  {
   "cell_type": "code",
   "execution_count": 2,
   "metadata": {
    "collapsed": true
   },
   "outputs": [],
   "source": [
    "fasttext_sum_phi = get_embeddings_and_sum_phi(pol_reader, load_fasttext_embeddings)"
   ]
  },
  {
   "cell_type": "code",
   "execution_count": 3,
   "metadata": {
    "collapsed": false
   },
   "outputs": [
    {
     "name": "stdout",
     "output_type": "stream",
     "text": [
      "Fasttext embeddings (keep case)\n",
      "Training and testing on fold 4\n",
      "Over 5 folds, F1 mean is 0.7276866014538467, stdev 0.014212805998664322\n"
     ]
    }
   ],
   "source": [
    "print(\"Fasttext embeddings (keep case)\")\n",
    "kfold_experiment(reader   = pol_reader(),\n",
    "                 Model    = MaxEntClassifier, \n",
    "                 phi      = fasttext_sum_phi, \n",
    "                 folds    = 5, \n",
    "                 balanced = True)"
   ]
  },
  {
   "cell_type": "code",
   "execution_count": 4,
   "metadata": {
    "collapsed": true
   },
   "outputs": [],
   "source": [
    "glove_amazon_sum_phi = get_embeddings_and_sum_phi(pol_reader, load_glove_amazon_embeddings)"
   ]
  },
  {
   "cell_type": "code",
   "execution_count": 8,
   "metadata": {
    "collapsed": false
   },
   "outputs": [
    {
     "name": "stdout",
     "output_type": "stream",
     "text": [
      "\n",
      "Testing on c=0.0007\n",
      "Training and testing on fold 4\n",
      "Over 5 folds, F1 mean is 0.7404165966019787, stdev 0.011170620181479263\n",
      "\n",
      "Testing on c=0.001\n",
      "Training and testing on fold 4\n",
      "Over 5 folds, F1 mean is 0.7431969419307436, stdev 0.011202541500544805\n",
      "\n",
      "Testing on c=0.002\n",
      "Training and testing on fold 4\n",
      "Over 5 folds, F1 mean is 0.7408559423602357, stdev 0.013694484757838453\n",
      "\n",
      "Testing on c=0.003\n",
      "Training and testing on fold 4\n",
      "Over 5 folds, F1 mean is 0.7429046516883536, stdev 0.012704799807835393\n"
     ]
    }
   ],
   "source": [
    "for c in (0.0007, 0.001, 0.002, 0.003):\n",
    "    print(\"\\nTesting on c={}\".format(c))\n",
    "    kfold_experiment(reader   = pol_reader(),\n",
    "                 Model    = lambda: MaxEntClassifier(c), \n",
    "                 phi      = glove_amazon_sum_phi, \n",
    "                 folds    = 5, \n",
    "                 balanced = True)"
   ]
  },
  {
   "cell_type": "code",
   "execution_count": 5,
   "metadata": {
    "collapsed": false
   },
   "outputs": [
    {
     "name": "stdout",
     "output_type": "stream",
     "text": [
      "             precision    recall  f1-score   support\n",
      "\n",
      "          0      0.748     0.748     0.748      1703\n",
      "          1      0.748     0.748     0.748      1703\n",
      "\n",
      "avg / total      0.748     0.748     0.748      3406\n",
      "\n"
     ]
    }
   ],
   "source": [
    "train_and_eval(pol_reader(), \n",
    "               pol_test_reader(), \n",
    "               lambda: MaxEntClassifier(0.001), \n",
    "               glove_amazon_sum_phi, \n",
    "               balanced=True)"
   ]
  },
  {
   "cell_type": "code",
   "execution_count": null,
   "metadata": {
    "collapsed": true
   },
   "outputs": [],
   "source": []
  }
 ],
 "metadata": {
  "kernelspec": {
   "display_name": "conda_default",
   "language": "python",
   "name": "conda_default"
  },
  "language_info": {
   "codemirror_mode": {
    "name": "ipython",
    "version": 3
   },
   "file_extension": ".py",
   "mimetype": "text/x-python",
   "name": "python",
   "nbconvert_exporter": "python",
   "pygments_lexer": "ipython3",
   "version": "3.6.5"
  }
 },
 "nbformat": 4,
 "nbformat_minor": 1
}
