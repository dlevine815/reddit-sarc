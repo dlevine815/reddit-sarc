{
 "cells": [
  {
   "cell_type": "markdown",
   "metadata": {},
   "source": [
    "Now let's look at baseline performance with split response features (not conjoined anymore)"
   ]
  },
  {
   "cell_type": "code",
   "execution_count": 1,
   "metadata": {
    "collapsed": false
   },
   "outputs": [
    {
     "name": "stdout",
     "output_type": "stream",
     "text": [
      "/media/alex/Data/Backup_root/Backup_docs/git/reddit-sarc/src\n"
     ]
    }
   ],
   "source": [
    "%cd ../src\n",
    "from util import *\n",
    "from baselines import *"
   ]
  },
  {
   "cell_type": "code",
   "execution_count": 2,
   "metadata": {
    "collapsed": false
   },
   "outputs": [],
   "source": [
    "lower_unigrams_phi = get_unigrams_phi(lower_pol_reader())\n",
    "unigrams_phi = get_unigrams_phi(pol_reader())"
   ]
  },
  {
   "cell_type": "code",
   "execution_count": 3,
   "metadata": {
    "collapsed": false
   },
   "outputs": [
    {
     "name": "stdout",
     "output_type": "stream",
     "text": [
      "Lowercase (logistic regression)\n",
      "Training and testing on fold 4\n",
      "Over 5 folds, F1 mean is 0.7461231646175646, stdev 0.011640638684474456\n",
      "\n",
      "Keep case (logistic regression)\n",
      "Training and testing on fold 4\n",
      "Over 5 folds, F1 mean is 0.7481731592087492, stdev 0.010224769438874516\n"
     ]
    }
   ],
   "source": [
    "print(\"Lowercase (logistic regression)\")\n",
    "kfold_experiment(reader   = lower_pol_reader(),\n",
    "                 Model    = MaxEntClassifier, \n",
    "                 phi      = lower_unigrams_phi, \n",
    "                 folds    = 5, \n",
    "                 balanced = True)\n",
    "\n",
    "print(\"\\nKeep case (logistic regression)\")\n",
    "kfold_experiment(reader   = pol_reader(),\n",
    "                 Model    = MaxEntClassifier, \n",
    "                 phi      = unigrams_phi, \n",
    "                 folds    = 5, \n",
    "                 balanced = True)\n",
    "\n",
    "#print(\"\\nKeep case (logistic regression)\")\n",
    "#kfold_experiment(pol_reader, fit_maxent_classifier, unigrams_phi_c, None, concat_phi_r, 5)"
   ]
  },
  {
   "cell_type": "code",
   "execution_count": 2,
   "metadata": {
    "collapsed": true
   },
   "outputs": [],
   "source": [
    "fasttext_sum_phi = get_embeddings_and_sum_phi(pol_reader, load_fasttext_embeddings)"
   ]
  },
  {
   "cell_type": "code",
   "execution_count": 3,
   "metadata": {
    "collapsed": false
   },
   "outputs": [
    {
     "name": "stdout",
     "output_type": "stream",
     "text": [
      "Fasttext embeddings (keep case)\n",
      "Training and testing on fold 4\n",
      "Over 5 folds, F1 mean is 0.7276866014538467, stdev 0.014212805998664322\n"
     ]
    }
   ],
   "source": [
    "print(\"Fasttext embeddings (keep case)\")\n",
    "kfold_experiment(reader   = pol_reader(),\n",
    "                 Model    = MaxEntClassifier, \n",
    "                 phi      = fasttext_sum_phi, \n",
    "                 folds    = 5, \n",
    "                 balanced = True)"
   ]
  },
  {
   "cell_type": "code",
   "execution_count": 4,
   "metadata": {
    "collapsed": true
   },
   "outputs": [],
   "source": [
    "glove_amazon_sum_phi = get_embeddings_and_sum_phi(pol_reader, load_glove_amazon_embeddings)"
   ]
  },
  {
   "cell_type": "code",
   "execution_count": 8,
   "metadata": {
    "collapsed": false
   },
   "outputs": [
    {
     "name": "stdout",
     "output_type": "stream",
     "text": [
      "\n",
      "Testing on c=0.0007\n",
      "Training and testing on fold 4\n",
      "Over 5 folds, F1 mean is 0.7404165966019787, stdev 0.011170620181479263\n",
      "\n",
      "Testing on c=0.001\n",
      "Training and testing on fold 4\n",
      "Over 5 folds, F1 mean is 0.7431969419307436, stdev 0.011202541500544805\n",
      "\n",
      "Testing on c=0.002\n",
      "Training and testing on fold 4\n",
      "Over 5 folds, F1 mean is 0.7408559423602357, stdev 0.013694484757838453\n",
      "\n",
      "Testing on c=0.003\n",
      "Training and testing on fold 4\n",
      "Over 5 folds, F1 mean is 0.7429046516883536, stdev 0.012704799807835393\n"
     ]
    }
   ],
   "source": [
    "for c in (0.0007, 0.001, 0.002, 0.003):\n",
    "    print(\"\\nTesting on c={}\".format(c))\n",
    "    kfold_experiment(reader   = pol_reader(),\n",
    "                 Model    = lambda: MaxEntClassifier(c), \n",
    "                 phi      = glove_amazon_sum_phi, \n",
    "                 folds    = 5, \n",
    "                 balanced = True)"
   ]
  },
  {
   "cell_type": "code",
   "execution_count": null,
   "metadata": {
    "collapsed": true
   },
   "outputs": [],
   "source": []
  }
 ],
 "metadata": {
  "kernelspec": {
   "display_name": "conda_default",
   "language": "python",
   "name": "conda_default"
  },
  "language_info": {
   "codemirror_mode": {
    "name": "ipython",
    "version": 3
   },
   "file_extension": ".py",
   "mimetype": "text/x-python",
   "name": "python",
   "nbconvert_exporter": "python",
   "pygments_lexer": "ipython3",
   "version": "3.6.5"
  }
 },
 "nbformat": 4,
 "nbformat_minor": 1
}
